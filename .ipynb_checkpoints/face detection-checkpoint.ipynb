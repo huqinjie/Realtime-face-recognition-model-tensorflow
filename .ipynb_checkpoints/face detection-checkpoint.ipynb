{
 "cells": [
  {
   "cell_type": "code",
   "execution_count": null,
   "metadata": {},
   "outputs": [],
   "source": [
    "#opencv library for image processing\n",
    "import cv2"
   ]
  },
  {
   "cell_type": "code",
   "execution_count": null,
   "metadata": {},
   "outputs": [],
   "source": [
    "# front face detector file\n",
    "face_cascade = cv2.CascadeClassifier('data/haarcascade_frontalface_alt2.xml')"
   ]
  },
  {
   "cell_type": "code",
   "execution_count": null,
   "metadata": {},
   "outputs": [],
   "source": [
    "#pickle for save and fetch model\n",
    "import pickle\n",
    "import numpy as np"
   ]
  },
  {
   "cell_type": "code",
   "execution_count": null,
   "metadata": {},
   "outputs": [],
   "source": [
    "#one hot encoding for making categorical data.\n",
    "def one_hot_encode(vector , possible_values):\n",
    "    '''\n",
    "    For use to one-hot encode the 10- possible labels\n",
    "    '''\n",
    "    n = len(vector)\n",
    "    out = np.zeros((n, possible_values))\n",
    "    out[range(n), vector] = 1\n",
    "    return out"
   ]
  },
  {
   "cell_type": "code",
   "execution_count": null,
   "metadata": {},
   "outputs": [],
   "source": [
    "with open('labels.pickle','rb') as f:\n",
    "    labels=pickle.load(f) #load labels\n",
    "    labels = {v:k for k,v in labels.items()} #fetch keys and values of labels\n",
    "\n",
    "lbl = []\n",
    "vals = []\n",
    "#separate values and keys\n",
    "for key,val in labels.items():\n",
    "    lbl.append(key)\n",
    "    vals.append(val)\n",
    "    \n",
    "lbl = np.array(lbl)\n",
    "vals = np.array(vals)\n",
    "\n",
    "lbl = one_hot_encode(lbl,4)"
   ]
  },
  {
   "cell_type": "code",
   "execution_count": null,
   "metadata": {},
   "outputs": [],
   "source": [
    "lbl"
   ]
  },
  {
   "cell_type": "code",
   "execution_count": null,
   "metadata": {},
   "outputs": [],
   "source": [
    "import tensorflow as tf"
   ]
  },
  {
   "cell_type": "code",
   "execution_count": null,
   "metadata": {},
   "outputs": [],
   "source": [
    "#fetch graph of train model\n",
    "res = tf.train.import_meta_graph('save_model/face_model.meta')"
   ]
  },
  {
   "cell_type": "code",
   "execution_count": null,
   "metadata": {},
   "outputs": [],
   "source": [
    "ini = tf.global_variables_initializer()"
   ]
  },
  {
   "cell_type": "code",
   "execution_count": null,
   "metadata": {},
   "outputs": [],
   "source": [
    "# with tf.Session() as sess:\n",
    "    \n",
    "#     sess.run(ini)\n",
    "#     res.restore(sess,tf.train.latest_checkpoint('./save_model/'))\n",
    "\n",
    "#     W  = sess.run('weights:0')\n",
    "#     b = sess.run('bias:0')\n",
    "#     graph = tf.get_default_graph()\n",
    "        \n",
    "#     y_pred = graph.get_tensor_by_name(\"y_pred:0\")     \n",
    "#     x_input= graph.get_tensor_by_name(\"inputx:0\") \n",
    "#     y_true = graph.get_tensor_by_name(\"inputy:0\")\n",
    "#     hold_prob = graph.get_tensor_by_name(\"hold_prob:0\")"
   ]
  },
  {
   "cell_type": "code",
   "execution_count": null,
   "metadata": {},
   "outputs": [],
   "source": [
    "# cap = cv2.VideoCapture(0)"
   ]
  },
  {
   "cell_type": "code",
   "execution_count": null,
   "metadata": {},
   "outputs": [],
   "source": [
    "with tf.Session() as sess:\n",
    "    \n",
    "    sess.run(ini)\n",
    "    res.restore(sess,tf.train.latest_checkpoint('./save_model/'))\n",
    "\n",
    "    W  = sess.run('weights:0')\n",
    "    b = sess.run('bias:0')\n",
    "    graph = tf.get_default_graph()\n",
    "        \n",
    "    y_pred = graph.get_tensor_by_name(\"y_pred:0\")     \n",
    "    x_input= graph.get_tensor_by_name(\"inputx:0\") \n",
    "    y_true = graph.get_tensor_by_name(\"inputy:0\")\n",
    "    hold_prob = graph.get_tensor_by_name(\"hold_prob:0\")\n",
    "    \n",
    "    cap = cv2.VideoCapture(0)\n",
    "    \n",
    "    while True:\n",
    "\n",
    "        #capture frame by frame \n",
    "        check , frame = cap.read()\n",
    "\n",
    "        gray = cv2.cvtColor(frame,cv2.COLOR_BGR2GRAY) #convert in gray\n",
    "\n",
    "        faces = face_cascade.detectMultiScale(gray,scaleFactor=1.5,minNeighbors=4) #detect face\n",
    "\n",
    "        for (x,y,w,h) in faces:\n",
    "\n",
    "                #print(x,y,w,h)\n",
    "                #roi = region of interest \n",
    "            roi_gray = gray[y:y+h,x:x+w]\n",
    "            roi = cv2.resize(roi_gray,(100,100))\n",
    "            roi = roi/255 \n",
    "\n",
    "            roi = np.reshape(roi ,(1,100,100,1))\n",
    "\n",
    "            output = sess.run(y_pred, feed_dict={x_input:roi, y_true: lbl, hold_prob: 1}) #predict face\n",
    "            id_ = np.argmax(output) # highest predicted face\n",
    "\n",
    "            font = cv2.FONT_HERSHEY_SCRIPT_SIMPLEX\n",
    "            name = vals[id_]\n",
    "            fcolor = (255,255,255)\n",
    "            fstroke = 2\n",
    "            cv2.putText(frame,name,(x,y),font,1,fcolor,fstroke,cv2.LINE_AA)\n",
    "\n",
    "            color = (255,0,0) #color \n",
    "            stroke = 2 #thickness of rectangle\n",
    "            end_x = x + w\n",
    "            end_y = y + h\n",
    "            cv2.rectangle(frame,(x,y),(end_x , end_y) , color,stroke) #rectange\n",
    "\n",
    "            #display resulting frame\n",
    "            cv2.imshow('frame',frame)\n",
    "\n",
    "        if cv2.waitKey(20) & 0xFF == ord('q'):\n",
    "            break\n",
    "\n",
    "        # When everything done , release the capture\n",
    "    cap.release()\n",
    "    cv2.destroyAllWindows()"
   ]
  },
  {
   "cell_type": "raw",
   "metadata": {},
   "source": []
  },
  {
   "cell_type": "code",
   "execution_count": null,
   "metadata": {},
   "outputs": [],
   "source": []
  }
 ],
 "metadata": {
  "kernelspec": {
   "display_name": "Python 3",
   "language": "python",
   "name": "python3"
  },
  "language_info": {
   "codemirror_mode": {
    "name": "ipython",
    "version": 3
   },
   "file_extension": ".py",
   "mimetype": "text/x-python",
   "name": "python",
   "nbconvert_exporter": "python",
   "pygments_lexer": "ipython3",
   "version": "3.5.2"
  }
 },
 "nbformat": 4,
 "nbformat_minor": 2
}
